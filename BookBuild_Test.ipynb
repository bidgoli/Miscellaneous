{
 "cells": [
  {
   "cell_type": "markdown",
   "metadata": {},
   "source": [
    "Bookbuild Task\n",
    "----------\n",
    "\n",
    "Given a list of LOANS, and a list of INVESTORS, the task is produce an output showing which INVESTORS can be assigned to which LOANS, to fill all loans. \n",
    "\n",
    "\n",
    "\n",
    "Let's start with importing libraries"
   ]
  },
  {
   "cell_type": "code",
   "execution_count": 1,
   "metadata": {},
   "outputs": [],
   "source": [
    "import numpy as np\n",
    "import matplotlib.pyplot as plt\n",
    "%matplotlib inline"
   ]
  },
  {
   "cell_type": "markdown",
   "metadata": {},
   "source": [
    "Before we continue, let's do some visualizations.\n",
    "\n",
    "We put the values of loans and invests in a row, or more technically, we look at their cumulative sum.\n",
    "\n",
    "In the plots below, the distance between two black seperators indicate the amounts of loans, and the distance between two blue dots, indicates the amount of invests."
   ]
  },
  {
   "cell_type": "code",
   "execution_count": 9,
   "metadata": {},
   "outputs": [],
   "source": [
    "def visualization(loans, investors):\n",
    "    \n",
    "    loan_CS=np.cumsum(loans)\n",
    "    inv_CS=np.cumsum(investors)\n",
    "    plt.ylim([-1,1])\n",
    "    plt.vlines(0,-.8,.8,'gray')\n",
    "    #plt.hlines(0,-inv_CS[1],1.1*max(loan_CS[-1],inv_CS[-1]),'gray')\n",
    "    for i in range(len(inv_CS)-1):\n",
    "        plt.hlines(0,inv_CS[i],inv_CS[i+1],np.random.rand(3))\n",
    "    plt.vlines(loan_CS,-.1,.1)\n",
    "    plt.scatter(inv_CS,np.zeros(len(inv_CS)))"
   ]
  },
  {
   "cell_type": "code",
   "execution_count": 10,
   "metadata": {},
   "outputs": [
    {
     "data": {
      "image/png": "[encoded data removed]",
      "text/plain": [
       "<Figure size 432x288 with 1 Axes>"
      ]
     },
     "metadata": {
      "needs_background": "light"
     },
     "output_type": "display_data"
    }
   ],
   "source": [
    "visualization([2000, 7000, 8000, 6000, 4000],[3000, 2000, 9000, 5000, 6000, 8000, 3000, 5000])"
   ]
  },
  {
   "cell_type": "markdown",
   "metadata": {},
   "source": [
    "As you can see in the plot above, the first borrower (black) can recieve his whole money from the first investor (blue), but for the second borrower, he has to wait till the third investor to be able to recieve his loan. Continuing the same argument, borrowers may follow the following instruction to recieve their money:\n",
    "\n",
    "[[0], [0, 1, 2], [2, 3], [3, 4], [4, 5]]\n",
    "\n",
    "So, all we have to do is to implement the function:\n",
    "\n",
    "This function tells you which borrower should borrow money from which investor:"
   ]
  },
  {
   "cell_type": "code",
   "execution_count": 4,
   "metadata": {},
   "outputs": [],
   "source": [
    "def bookbuild(loans, investors):\n",
    "    \n",
    "    # Cumulative sum of both\n",
    "    loan_CS=np.cumsum(loans)\n",
    "    inv_CS=np.cumsum(investors)\n",
    "    \n",
    "    # The first loaner always starts at zero\n",
    "    starts=[0]\n",
    "    ends=[]\n",
    "    \n",
    "\n",
    "    for l in loan_CS:\n",
    "    \n",
    "        # Each borrower is done as soon as investors cumsum reachs the current loans cumsum\n",
    "        ends.append(list(inv_CS>=l).index(True))\n",
    "    \n",
    "        # Next borrower will start as soon as investors cumsum exceed the current loans cumsum\n",
    "        starts.append(list(inv_CS>l).index(True))\n",
    "    \n",
    "    \n",
    "    # The last entity is useless\n",
    "    _=starts.pop()\n",
    "\n",
    "    # Generating results\n",
    "    results=[]\n",
    "    for i in range(len(loan_CS)):\n",
    "        results.append(list(range(starts[i],ends[i]+1)))\n",
    "        \n",
    "    return(results)"
   ]
  },
  {
   "cell_type": "markdown",
   "metadata": {},
   "source": [
    "As an example:"
   ]
  },
  {
   "cell_type": "code",
   "execution_count": 5,
   "metadata": {},
   "outputs": [
    {
     "data": {
      "text/plain": [
       "[[0], [0, 1, 2], [2, 3], [3, 4], [4, 5]]"
      ]
     },
     "execution_count": 5,
     "metadata": {},
     "output_type": "execute_result"
    }
   ],
   "source": [
    "bookbuild([2000, 7000, 8000, 6000, 4000],[3000, 2000, 9000, 5000, 6000, 8000, 3000, 5000])"
   ]
  },
  {
   "cell_type": "markdown",
   "metadata": {},
   "source": [
    "Also, we may think of the reverse function, i.e, indicating the corresponding loaners for each investor."
   ]
  },
  {
   "cell_type": "code",
   "execution_count": 6,
   "metadata": {},
   "outputs": [],
   "source": [
    "def inverse_bookbuild(loans,investors):\n",
    "    \n",
    "    # Cumulative sum of both\n",
    "    loan_CS=np.cumsum(loans)\n",
    "    inv_CS=np.cumsum(investors)\n",
    "    \n",
    "    # The first investor always starts at zero\n",
    "    starts=[0]\n",
    "    ends=[]\n",
    "    \n",
    "    \n",
    "    for i in inv_CS:\n",
    "        for j,l in enumerate(loan_CS):\n",
    "            \n",
    "            # Each investor who is not run of money can partially support j+1 where j is the index of the last fully supported borrower\n",
    "            if l<i:\n",
    "                end_temp=j+1\n",
    "            \n",
    "            # The next investor will start on j+1 where j is the index of the last fully supported borrower\n",
    "            if l<=i:\n",
    "                start_temp=j+1\n",
    "            \n",
    "        starts.append(start_temp)\n",
    "        ends.append(end_temp)\n",
    "        \n",
    "   # The last entity is useless\n",
    "    _=starts.pop()\n",
    "\n",
    "    # Generating results\n",
    "    results=[]\n",
    "    for i in range(len(inv_CS)):\n",
    "        if starts[i]<len(loan_CS)-1:\n",
    "            results.append(list(range(starts[i],ends[i]+1)))\n",
    "        else:\n",
    "            results.append('No Need')\n",
    "    return(results)"
   ]
  },
  {
   "cell_type": "markdown",
   "metadata": {},
   "source": [
    "As an example:"
   ]
  },
  {
   "cell_type": "code",
   "execution_count": 7,
   "metadata": {},
   "outputs": [
    {
     "data": {
      "text/plain": [
       "[[0, 1], [1], [1, 2], [2, 3], [3, 4], 'No Need', 'No Need', 'No Need']"
      ]
     },
     "execution_count": 7,
     "metadata": {},
     "output_type": "execute_result"
    }
   ],
   "source": [
    "inverse_bookbuild([2000, 7000, 8000, 6000, 4000],[3000, 2000, 9000, 5000, 6000, 8000, 3000, 5000])"
   ]
  }
 ],
 "metadata": {
  "kernelspec": {
   "display_name": "Python 3",
   "language": "python",
   "name": "python3"
  },
  "language_info": {
   "codemirror_mode": {
    "name": "ipython",
    "version": 3
   },
   "file_extension": ".py",
   "mimetype": "text/x-python",
   "name": "python",
   "nbconvert_exporter": "python",
   "pygments_lexer": "ipython3",
   "version": "3.6.4"
  }
 },
 "nbformat": 4,
 "nbformat_minor": 2
}
