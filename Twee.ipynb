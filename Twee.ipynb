{
 "cells": [
  {
   "cell_type": "markdown",
   "metadata": {},
   "source": [
    "How to use Tweeter\n",
    "--------------\n",
    "\n",
    "From [this](https://chatbotslife.com/twitter-data-mining-a-guide-to-big-data-analytics-using-python-4efc8ccfa219) post"
   ]
  },
  {
   "cell_type": "code",
   "execution_count": 5,
   "metadata": {},
   "outputs": [],
   "source": [
    "import tweepy\n",
    "from tweepy import Stream\n",
    "from tweepy import OAuthHandler\n",
    "from tweepy.streaming import StreamListener\n",
    "import json\n",
    "import pandas as pd\n",
    "import numpy as np\n",
    "import re #regular expression\n",
    "from textblob import TextBlob\n",
    "from ipywidgets import interact\n",
    "from ipywidgets.widgets import Text,Button\n",
    "from IPython.display import Markdown"
   ]
  },
  {
   "cell_type": "code",
   "execution_count": 2,
   "metadata": {},
   "outputs": [],
   "source": [
    "consumer_key = 'y3U5y5Aq85b5E3HFy92WabY4c'\n",
    "consumer_secret = 'MAIakm8KMvoGorP3szmjFXcc0m6v79EslZ6LH6kFjdlCk37FYh'\n",
    "access_key= '1931220042-SQzIcCEb1ZpoLMZjydvvWqXiwCYr4ntq7GqiQN0'\n",
    "access_secret = '4hqsjQXRhxLyHBJFTPhX54Xorag8r93U1gv4heXq0J3Q0'"
   ]
  },
  {
   "cell_type": "code",
   "execution_count": 3,
   "metadata": {},
   "outputs": [],
   "source": [
    "auth = tweepy.OAuthHandler(consumer_key, consumer_secret)\n",
    "auth.set_access_token(access_key, access_secret)\n",
    "api = tweepy.API(auth)"
   ]
  },
  {
   "cell_type": "code",
   "execution_count": 24,
   "metadata": {},
   "outputs": [
    {
     "name": "stdout",
     "output_type": "stream",
     "text": [
      "On:  2019-10-08 01:39:45    |  by:  AshleyJudd\n",
      "RT @TIMESUPNOW: “I’ve had many years to ruminate on how I fell into Harvey’s trap, and the best way to understand it is through the four po…\n",
      "--------\n",
      "On:  2019-10-08 01:38:21    |  by:  AshleyJudd\n",
      "Been rocking this one since 22 June. Ouch. It’s beyond. https://t.co/F4wz2d2SAC\n",
      "--------\n",
      "On:  2019-10-08 01:37:55    |  by:  AshleyJudd\n",
      "RT @smithbrainz: (Also discovered @AshleyJudd us part of #teammigraine—a fate I don’t wish on anyone, but hey, we have some of the best mig…\n",
      "--------\n"
     ]
    }
   ],
   "source": [
    "public_tweets = api.home_timeline()\n",
    "for tweet in public_tweets[:3]:\n",
    "    print ('On: ',tweet.created_at,'   |  by: ',tweet.user.screen_name)\n",
    "    print (tweet.text)\n",
    "    print('--------')"
   ]
  },
  {
   "cell_type": "code",
   "execution_count": 100,
   "metadata": {},
   "outputs": [
    {
     "name": "stdout",
     "output_type": "stream",
     "text": [
      "On:  2019-10-03 17:04:02\n",
      "@Diaoko_dra @KashaniSharif @Dodeca_hedrane فک نکنم واسه سلامتی‌شون خوب باشه 😅😁\n",
      "-------\n",
      "On:  2019-09-20 20:38:03\n",
      "@willtreatii :)))\n",
      "-------\n",
      "On:  2019-09-20 20:37:14\n",
      "@willtreatii از کی خوشت میاد؟\n",
      "-------\n"
     ]
    }
   ],
   "source": [
    "name = \"bmoha69\"\n",
    "tweetCount = 3\n",
    "results = api.user_timeline(id=name, count=tweetCount)\n",
    "\n",
    "for tweet in results:\n",
    "    print ('On: ',tweet.created_at)\n",
    "    print (tweet.text)\n",
    "    print('-------')"
   ]
  },
  {
   "cell_type": "code",
   "execution_count": 39,
   "metadata": {},
   "outputs": [
    {
     "name": "stdout",
     "output_type": "stream",
     "text": [
      "On:  2019-10-08 11:44:01    |    by:  ContractSpy\n",
      "Direct Contract - Programme Planning Manager at Wunderman Thompson Commerce, Dubai, £Contract Rate https://t.co/F6hEWWXIQL Join @contractspy\n",
      "--------\n",
      "On:  2019-10-04 00:26:06    |    by:  pdemizieux\n",
      "Influencers are increasingly playing a big role in the minds of the next generation of shoppers, with the potential… https://t.co/Me840TrqS1\n",
      "--------\n",
      "On:  2019-10-02 15:01:43    |    by:  exponea\n",
      "Rod Anthony, Senior Consultant for Wunderman Thompson Commerce, is joining our Black Friday Panel! Come to our ORC… https://t.co/S5LQbLtOVa\n",
      "--------\n",
      "On:  2019-10-02 06:20:05    |    by:  janevlyang\n",
      "Over half of kids are influenced by Instagram and YouTube stars https://t.co/E8CdEpGcAN\n",
      "--------\n",
      "On:  2019-09-30 19:46:52    |    by:  DC360_Official\n",
      "RT @markbrohan: @B2B_Next Alex Brandstetter of Wunderman Thompson Commerce says B2B e-commerce sales will be $2 trillion by as soon as 2024…\n",
      "--------\n"
     ]
    }
   ],
   "source": [
    "query = \"Wunderman Thompson Commerce\"\n",
    "language = \"en\"\n",
    "results = api.search(q=query, lang=language)\n",
    "\n",
    "for tweet in results[:5]:\n",
    "    print ('On: ',tweet.created_at,'   |    by: ',tweet.user.screen_name)\n",
    "    print (tweet.text)\n",
    "    print('--------')"
   ]
  },
  {
   "cell_type": "code",
   "execution_count": 6,
   "metadata": {},
   "outputs": [
    {
     "data": {
      "application/vnd.jupyter.widget-view+json": {
       "model_id": "8708e604e90e4b9e987001670b6817be",
       "version_major": 2,
       "version_minor": 0
      },
      "text/html": [
       "<p>Failed to display Jupyter Widget of type <code>interactive</code>.</p>\n",
       "<p>\n",
       "  If you're reading this message in the Jupyter Notebook or JupyterLab Notebook, it may mean\n",
       "  that the widgets JavaScript is still loading. If this message persists, it\n",
       "  likely means that the widgets JavaScript library is either not installed or\n",
       "  not enabled. See the <a href=\"https://ipywidgets.readthedocs.io/en/stable/user_install.html\">Jupyter\n",
       "  Widgets Documentation</a> for setup instructions.\n",
       "</p>\n",
       "<p>\n",
       "  If you're reading this message in another frontend (for example, a static\n",
       "  rendering on GitHub or <a href=\"https://nbviewer.jupyter.org/\">NBViewer</a>),\n",
       "  it may mean that your frontend doesn't currently support widgets.\n",
       "</p>\n"
      ],
      "text/plain": [
       "interactive(children=(Text(value='Wunderman', description='Your Query:', placeholder='Type something'), Output()), _dom_classes=('widget-interact',))"
      ]
     },
     "metadata": {},
     "output_type": "display_data"
    }
   ],
   "source": [
    "@interact(q=Text(\n",
    "    value='Wunderman',\n",
    "    placeholder='Type something',\n",
    "    description='Your Query:',\n",
    "    disabled=False))\n",
    "def Sent_Analysis(q):\n",
    "\n",
    "    language = \"en\"\n",
    "    results = api.search(q=q, lang=language)\n",
    "\n",
    "    for tweet in results[:3]:\n",
    "        tb=TextBlob(tweet.text)\n",
    "        polarity=np.round(tb.sentiment.polarity,3)\n",
    "        c='#%02x%02x%02x' % (min(max(int(np.floor(polarity*(-800))),0),255), min(max(int(np.floor(polarity*800)),0),255), 0)\n",
    "        display(Markdown('Polarity :   <span style=\"color:{}\">{}</span>'.format(c,polarity)))\n",
    "        print ('On: ',tweet.created_at,'   |    by: ',tweet.user.screen_name,'   |    in: ',tweet.user.location)\n",
    "        print (tweet.text)\n",
    "        print('--------\\n')"
   ]
  },
  {
   "cell_type": "code",
   "execution_count": 56,
   "metadata": {},
   "outputs": [
    {
     "data": {
      "text/plain": [
       "'RT @markbrohan: @B2B_Next Alex Brandstetter of Wunderman Thompson Commerce says B2B e-commerce sales will be $2 trillion by as soon as 2024…'"
      ]
     },
     "execution_count": 56,
     "metadata": {},
     "output_type": "execute_result"
    }
   ],
   "source": [
    "tweet.text"
   ]
  },
  {
   "cell_type": "code",
   "execution_count": 67,
   "metadata": {},
   "outputs": [
    {
     "ename": "ModuleNotFoundError",
     "evalue": "No module named 'termcolor'",
     "output_type": "error",
     "traceback": [
      "\u001b[1;31m---------------------------------------------------------------------------\u001b[0m",
      "\u001b[1;31mModuleNotFoundError\u001b[0m                       Traceback (most recent call last)",
      "\u001b[1;32m<ipython-input-67-ba5634f7deca>\u001b[0m in \u001b[0;36m<module>\u001b[1;34m()\u001b[0m\n\u001b[1;32m----> 1\u001b[1;33m \u001b[1;32mfrom\u001b[0m \u001b[0mtermcolor\u001b[0m \u001b[1;32mimport\u001b[0m \u001b[0mcolored\u001b[0m\u001b[1;33m\u001b[0m\u001b[0m\n\u001b[0m\u001b[0;32m      2\u001b[0m \u001b[1;33m\u001b[0m\u001b[0m\n\u001b[0;32m      3\u001b[0m \u001b[0mprint\u001b[0m \u001b[1;33m(\u001b[0m\u001b[0mcolored\u001b[0m\u001b[1;33m(\u001b[0m\u001b[1;34m'hello'\u001b[0m\u001b[1;33m,\u001b[0m \u001b[1;34m'red'\u001b[0m\u001b[1;33m)\u001b[0m\u001b[1;33m,\u001b[0m \u001b[0mcolored\u001b[0m\u001b[1;33m(\u001b[0m\u001b[1;34m'world'\u001b[0m\u001b[1;33m,\u001b[0m \u001b[1;34m'green'\u001b[0m\u001b[1;33m)\u001b[0m\u001b[1;33m)\u001b[0m\u001b[1;33m\u001b[0m\u001b[0m\n",
      "\u001b[1;31mModuleNotFoundError\u001b[0m: No module named 'termcolor'"
     ]
    }
   ],
   "source": [
    "from termcolor import colored\n",
    "\n",
    "print (colored('hello', 'red'), colored('world', 'green'))"
   ]
  },
  {
   "cell_type": "code",
   "execution_count": 78,
   "metadata": {},
   "outputs": [
    {
     "data": {
      "text/markdown": [
       "this is in <span style=\"color:#008040\">red</span> color."
      ],
      "text/plain": [
       "<IPython.core.display.Markdown object>"
      ]
     },
     "metadata": {},
     "output_type": "display_data"
    }
   ],
   "source": [
    "from IPython.display import Markdown\n",
    "c='#%02x%02x%02x' % (0, 128, 64)\n",
    "display (Markdown('this is in <span style=\"color:{}\">red</span> color.'.format(c)))"
   ]
  },
  {
   "cell_type": "code",
   "execution_count": 86,
   "metadata": {},
   "outputs": [
    {
     "data": {
      "text/plain": [
       "'#008040'"
      ]
     },
     "execution_count": 86,
     "metadata": {},
     "output_type": "execute_result"
    }
   ],
   "source": [
    "c"
   ]
  },
  {
   "cell_type": "code",
   "execution_count": 80,
   "metadata": {},
   "outputs": [
    {
     "ename": "AttributeError",
     "evalue": "module 'numpy' has no attribute 'relu'",
     "output_type": "error",
     "traceback": [
      "\u001b[1;31m---------------------------------------------------------------------------\u001b[0m",
      "\u001b[1;31mAttributeError\u001b[0m                            Traceback (most recent call last)",
      "\u001b[1;32m<ipython-input-80-858821894805>\u001b[0m in \u001b[0;36m<module>\u001b[1;34m()\u001b[0m\n\u001b[1;32m----> 1\u001b[1;33m \u001b[0mnp\u001b[0m\u001b[1;33m.\u001b[0m\u001b[0mrelu\u001b[0m\u001b[1;33m(\u001b[0m\u001b[1;33m-\u001b[0m\u001b[1;36m1\u001b[0m\u001b[1;33m)\u001b[0m\u001b[1;33m\u001b[0m\u001b[0m\n\u001b[0m",
      "\u001b[1;31mAttributeError\u001b[0m: module 'numpy' has no attribute 'relu'"
     ]
    }
   ],
   "source": [
    "np.relu(-1)"
   ]
  },
  {
   "cell_type": "code",
   "execution_count": 84,
   "metadata": {},
   "outputs": [
    {
     "data": {
      "text/plain": [
       "'#008040'"
      ]
     },
     "execution_count": 84,
     "metadata": {},
     "output_type": "execute_result"
    }
   ],
   "source": [
    "c"
   ]
  },
  {
   "cell_type": "code",
   "execution_count": 92,
   "metadata": {},
   "outputs": [
    {
     "data": {
      "text/markdown": [
       "Polarity :   <span style=\"color:#00fa00\">0.5</span>"
      ],
      "text/plain": [
       "<IPython.core.display.Markdown object>"
      ]
     },
     "metadata": {},
     "output_type": "display_data"
    }
   ],
   "source": [
    "polarity=.5\n",
    "c='#%02x%02x%02x' % (max(int(np.floor(polarity*(-500))),0), max(int(np.floor(polarity*500)),0), 0)\n",
    "display(Markdown('Polarity :   <span style=\"color:{}\">{}</span>'.format(c,polarity)))"
   ]
  },
  {
   "cell_type": "code",
   "execution_count": 91,
   "metadata": {},
   "outputs": [
    {
     "data": {
      "text/plain": [
       "'#-fafa00'"
      ]
     },
     "execution_count": 91,
     "metadata": {},
     "output_type": "execute_result"
    }
   ],
   "source": [
    "c"
   ]
  },
  {
   "cell_type": "code",
   "execution_count": 94,
   "metadata": {},
   "outputs": [
    {
     "data": {
      "text/plain": [
       "250"
      ]
     },
     "execution_count": 94,
     "metadata": {},
     "output_type": "execute_result"
    }
   ],
   "source": [
    "polarity=-.5\n",
    "max(int(np.floor(polarity*(-500))),0)"
   ]
  },
  {
   "cell_type": "code",
   "execution_count": 95,
   "metadata": {},
   "outputs": [
    {
     "data": {
      "text/plain": [
       "'#fa0000'"
      ]
     },
     "execution_count": 95,
     "metadata": {},
     "output_type": "execute_result"
    }
   ],
   "source": [
    "'#%02x%02x%02x' % (250,0,0)"
   ]
  },
  {
   "cell_type": "code",
   "execution_count": null,
   "metadata": {},
   "outputs": [],
   "source": []
  }
 ],
 "metadata": {
  "kernelspec": {
   "display_name": "Python 3",
   "language": "python",
   "name": "python3"
  },
  "language_info": {
   "codemirror_mode": {
    "name": "ipython",
    "version": 3
   },
   "file_extension": ".py",
   "mimetype": "text/x-python",
   "name": "python",
   "nbconvert_exporter": "python",
   "pygments_lexer": "ipython3",
   "version": "3.6.4"
  }
 },
 "nbformat": 4,
 "nbformat_minor": 2
}
